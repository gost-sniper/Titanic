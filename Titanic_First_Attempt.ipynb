{
  "nbformat": 4,
  "nbformat_minor": 0,
  "metadata": {
    "colab": {
      "name": "Titanic_First_Attempt.ipynb",
      "version": "0.3.2",
      "provenance": [],
      "collapsed_sections": []
    },
    "kernelspec": {
      "name": "python3",
      "display_name": "Python 3"
    },
    "accelerator": "GPU"
  },
  "cells": [
    {
      "metadata": {
        "id": "i-U6Sf93tnK7",
        "colab_type": "code",
        "outputId": "962c93cc-4319-4bad-e46b-8de5f74114c3",
        "colab": {
          "resources": {
            "http://localhost:8080/nbextensions/google.colab/files.js": {
              "data": "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",
              "ok": true,
              "headers": [
                [
                  "content-type",
                  "application/javascript"
                ]
              ],
              "status": 200,
              "status_text": ""
            }
          },
          "base_uri": "https://localhost:8080/",
          "height": 92
        }
      },
      "cell_type": "code",
      "source": [
        "from google.colab import files\n",
        "files.upload()"
      ],
      "execution_count": 0,
      "outputs": [
        {
          "output_type": "display_data",
          "data": {
            "text/html": [
              "\n",
              "     <input type=\"file\" id=\"files-27998abb-308e-4b16-b864-99faea16e343\" name=\"files[]\" multiple disabled />\n",
              "     <output id=\"result-27998abb-308e-4b16-b864-99faea16e343\">\n",
              "      Upload widget is only available when the cell has been executed in the\n",
              "      current browser session. Please rerun this cell to enable.\n",
              "      </output>\n",
              "      <script src=\"/nbextensions/google.colab/files.js\"></script> "
            ],
            "text/plain": [
              "<IPython.core.display.HTML object>"
            ]
          },
          "metadata": {
            "tags": []
          }
        },
        {
          "output_type": "stream",
          "text": [
            "Saving kaggle.json to kaggle.json\n"
          ],
          "name": "stdout"
        },
        {
          "output_type": "execute_result",
          "data": {
            "text/plain": [
              "{'kaggle.json': b'{\"username\":\"gostsniper\",\"key\":\"5e3f0aad8c2b698d78ad6f6b5043469b\"}'}"
            ]
          },
          "metadata": {
            "tags": []
          },
          "execution_count": 1
        }
      ]
    },
    {
      "metadata": {
        "id": "HCGH5NP3rV2E",
        "colab_type": "code",
        "outputId": "1f6bad9a-2b04-462b-e387-a6ccaa3f5a8d",
        "colab": {
          "base_uri": "https://localhost:8080/",
          "height": 206
        }
      },
      "cell_type": "code",
      "source": [
        "!pip install kaggle "
      ],
      "execution_count": 0,
      "outputs": [
        {
          "output_type": "stream",
          "text": [
            "Requirement already satisfied: kaggle in /usr/local/lib/python3.6/dist-packages (1.5.2)\n",
            "Requirement already satisfied: urllib3<1.23.0,>=1.15 in /usr/local/lib/python3.6/dist-packages (from kaggle) (1.22)\n",
            "Requirement already satisfied: six>=1.10 in /usr/local/lib/python3.6/dist-packages (from kaggle) (1.11.0)\n",
            "Requirement already satisfied: certifi in /usr/local/lib/python3.6/dist-packages (from kaggle) (2018.11.29)\n",
            "Requirement already satisfied: python-dateutil in /usr/local/lib/python3.6/dist-packages (from kaggle) (2.5.3)\n",
            "Requirement already satisfied: requests in /usr/local/lib/python3.6/dist-packages (from kaggle) (2.18.4)\n",
            "Requirement already satisfied: tqdm in /usr/local/lib/python3.6/dist-packages (from kaggle) (4.28.1)\n",
            "Requirement already satisfied: python-slugify in /usr/local/lib/python3.6/dist-packages (from kaggle) (2.0.1)\n",
            "Requirement already satisfied: idna<2.7,>=2.5 in /usr/local/lib/python3.6/dist-packages (from requests->kaggle) (2.6)\n",
            "Requirement already satisfied: chardet<3.1.0,>=3.0.2 in /usr/local/lib/python3.6/dist-packages (from requests->kaggle) (3.0.4)\n",
            "Requirement already satisfied: Unidecode>=0.04.16 in /usr/local/lib/python3.6/dist-packages (from python-slugify->kaggle) (1.0.23)\n"
          ],
          "name": "stdout"
        }
      ]
    },
    {
      "metadata": {
        "id": "u6UM6iCMuS34",
        "colab_type": "code",
        "colab": {}
      },
      "cell_type": "code",
      "source": [
        "!mkdir -p ~/.kaggle\n",
        "!cp kaggle.json ~/.kaggle/\n",
        "\n",
        "!chmod 600 ~/.kaggle/kaggle.json"
      ],
      "execution_count": 0,
      "outputs": []
    },
    {
      "metadata": {
        "id": "_csUxlpEuZol",
        "colab_type": "code",
        "outputId": "88b5ad0e-db50-4008-9290-95e6ea12b7ed",
        "colab": {
          "base_uri": "https://localhost:8080/",
          "height": 172
        }
      },
      "cell_type": "code",
      "source": [
        "!kaggle competitions download -c titanic"
      ],
      "execution_count": 0,
      "outputs": [
        {
          "output_type": "stream",
          "text": [
            "Downloading train.csv to /content\n",
            "\r  0% 0.00/59.8k [00:00<?, ?B/s]\n",
            "100% 59.8k/59.8k [00:00<00:00, 48.1MB/s]\n",
            "Downloading test.csv to /content\n",
            "  0% 0.00/28.0k [00:00<?, ?B/s]\n",
            "100% 28.0k/28.0k [00:00<00:00, 31.1MB/s]\n",
            "Downloading gender_submission.csv to /content\n",
            "  0% 0.00/3.18k [00:00<?, ?B/s]\n",
            "100% 3.18k/3.18k [00:00<00:00, 2.85MB/s]\n"
          ],
          "name": "stdout"
        }
      ]
    },
    {
      "metadata": {
        "id": "efhPVA7suePf",
        "colab_type": "code",
        "colab": {}
      },
      "cell_type": "code",
      "source": [
        "#importing libraries\n",
        "import pandas as pd\n",
        "import numpy as np\n",
        "import matplotlib.pyplot as plt\n",
        "import re\n",
        "\n",
        "import warnings\n",
        "warnings.filterwarnings('ignore')\n",
        "\n",
        "from sklearn.linear_model import LogisticRegression\n",
        "from sklearn.naive_bayes import GaussianNB\n",
        "from sklearn.metrics import confusion_matrix, classification_report, accuracy_score\n",
        "from sklearn.svm import SVC  \n",
        "from sklearn import tree\n",
        "from sklearn.tree import DecisionTreeClassifier\n",
        "\n"
      ],
      "execution_count": 0,
      "outputs": []
    },
    {
      "metadata": {
        "id": "6wF7dGaPuwh3",
        "colab_type": "code",
        "outputId": "0ad2d62e-f4c5-4269-bf34-3ab0824cdcce",
        "colab": {
          "base_uri": "https://localhost:8080/",
          "height": 203
        }
      },
      "cell_type": "code",
      "source": [
        "# Load in the train and test datasets\n",
        "train = pd.read_csv('./train.csv')\n",
        "test = pd.read_csv('./test.csv')\n",
        "PassangerId = train['PassengerId']\n",
        "train.head()"
      ],
      "execution_count": 0,
      "outputs": [
        {
          "output_type": "execute_result",
          "data": {
            "text/html": [
              "<div>\n",
              "<style scoped>\n",
              "    .dataframe tbody tr th:only-of-type {\n",
              "        vertical-align: middle;\n",
              "    }\n",
              "\n",
              "    .dataframe tbody tr th {\n",
              "        vertical-align: top;\n",
              "    }\n",
              "\n",
              "    .dataframe thead th {\n",
              "        text-align: right;\n",
              "    }\n",
              "</style>\n",
              "<table border=\"1\" class=\"dataframe\">\n",
              "  <thead>\n",
              "    <tr style=\"text-align: right;\">\n",
              "      <th></th>\n",
              "      <th>PassengerId</th>\n",
              "      <th>Survived</th>\n",
              "      <th>Pclass</th>\n",
              "      <th>Name</th>\n",
              "      <th>Sex</th>\n",
              "      <th>Age</th>\n",
              "      <th>SibSp</th>\n",
              "      <th>Parch</th>\n",
              "      <th>Ticket</th>\n",
              "      <th>Fare</th>\n",
              "      <th>Cabin</th>\n",
              "      <th>Embarked</th>\n",
              "    </tr>\n",
              "  </thead>\n",
              "  <tbody>\n",
              "    <tr>\n",
              "      <th>0</th>\n",
              "      <td>1</td>\n",
              "      <td>0</td>\n",
              "      <td>3</td>\n",
              "      <td>Braund, Mr. Owen Harris</td>\n",
              "      <td>male</td>\n",
              "      <td>22.0</td>\n",
              "      <td>1</td>\n",
              "      <td>0</td>\n",
              "      <td>A/5 21171</td>\n",
              "      <td>7.2500</td>\n",
              "      <td>NaN</td>\n",
              "      <td>S</td>\n",
              "    </tr>\n",
              "    <tr>\n",
              "      <th>1</th>\n",
              "      <td>2</td>\n",
              "      <td>1</td>\n",
              "      <td>1</td>\n",
              "      <td>Cumings, Mrs. John Bradley (Florence Briggs Th...</td>\n",
              "      <td>female</td>\n",
              "      <td>38.0</td>\n",
              "      <td>1</td>\n",
              "      <td>0</td>\n",
              "      <td>PC 17599</td>\n",
              "      <td>71.2833</td>\n",
              "      <td>C85</td>\n",
              "      <td>C</td>\n",
              "    </tr>\n",
              "    <tr>\n",
              "      <th>2</th>\n",
              "      <td>3</td>\n",
              "      <td>1</td>\n",
              "      <td>3</td>\n",
              "      <td>Heikkinen, Miss. Laina</td>\n",
              "      <td>female</td>\n",
              "      <td>26.0</td>\n",
              "      <td>0</td>\n",
              "      <td>0</td>\n",
              "      <td>STON/O2. 3101282</td>\n",
              "      <td>7.9250</td>\n",
              "      <td>NaN</td>\n",
              "      <td>S</td>\n",
              "    </tr>\n",
              "    <tr>\n",
              "      <th>3</th>\n",
              "      <td>4</td>\n",
              "      <td>1</td>\n",
              "      <td>1</td>\n",
              "      <td>Futrelle, Mrs. Jacques Heath (Lily May Peel)</td>\n",
              "      <td>female</td>\n",
              "      <td>35.0</td>\n",
              "      <td>1</td>\n",
              "      <td>0</td>\n",
              "      <td>113803</td>\n",
              "      <td>53.1000</td>\n",
              "      <td>C123</td>\n",
              "      <td>S</td>\n",
              "    </tr>\n",
              "    <tr>\n",
              "      <th>4</th>\n",
              "      <td>5</td>\n",
              "      <td>0</td>\n",
              "      <td>3</td>\n",
              "      <td>Allen, Mr. William Henry</td>\n",
              "      <td>male</td>\n",
              "      <td>35.0</td>\n",
              "      <td>0</td>\n",
              "      <td>0</td>\n",
              "      <td>373450</td>\n",
              "      <td>8.0500</td>\n",
              "      <td>NaN</td>\n",
              "      <td>S</td>\n",
              "    </tr>\n",
              "  </tbody>\n",
              "</table>\n",
              "</div>"
            ],
            "text/plain": [
              "   PassengerId  Survived  Pclass  \\\n",
              "0            1         0       3   \n",
              "1            2         1       1   \n",
              "2            3         1       3   \n",
              "3            4         1       1   \n",
              "4            5         0       3   \n",
              "\n",
              "                                                Name     Sex   Age  SibSp  \\\n",
              "0                            Braund, Mr. Owen Harris    male  22.0      1   \n",
              "1  Cumings, Mrs. John Bradley (Florence Briggs Th...  female  38.0      1   \n",
              "2                             Heikkinen, Miss. Laina  female  26.0      0   \n",
              "3       Futrelle, Mrs. Jacques Heath (Lily May Peel)  female  35.0      1   \n",
              "4                           Allen, Mr. William Henry    male  35.0      0   \n",
              "\n",
              "   Parch            Ticket     Fare Cabin Embarked  \n",
              "0      0         A/5 21171   7.2500   NaN        S  \n",
              "1      0          PC 17599  71.2833   C85        C  \n",
              "2      0  STON/O2. 3101282   7.9250   NaN        S  \n",
              "3      0            113803  53.1000  C123        S  \n",
              "4      0            373450   8.0500   NaN        S  "
            ]
          },
          "metadata": {
            "tags": []
          },
          "execution_count": 6
        }
      ]
    },
    {
      "metadata": {
        "id": "bQ3mwJxIJ5Z_",
        "colab_type": "code",
        "outputId": "aec6da78-8a42-4f9c-ec7c-58a03f2912e2",
        "colab": {
          "base_uri": "https://localhost:8080/",
          "height": 364
        }
      },
      "cell_type": "code",
      "source": [
        "datasets = [train, test]\n",
        "\n",
        "train.boxplot()"
      ],
      "execution_count": 0,
      "outputs": [
        {
          "output_type": "execute_result",
          "data": {
            "text/plain": [
              "<matplotlib.axes._subplots.AxesSubplot at 0x7f5292282e80>"
            ]
          },
          "metadata": {
            "tags": []
          },
          "execution_count": 7
        },
        {
          "output_type": "display_data",
          "data": {
            "image/png": "[encoded data removed]",
            "text/plain": [
              "<Figure size 576x396 with 1 Axes>"
            ]
          },
          "metadata": {
            "tags": []
          }
        }
      ]
    },
    {
      "metadata": {
        "id": "b4bUUT7k34LL",
        "colab_type": "text"
      },
      "cell_type": "markdown",
      "source": [
        "# Handling the missing **values**"
      ]
    },
    {
      "metadata": {
        "id": "sLC2IhEiNBHn",
        "colab_type": "code",
        "colab": {}
      },
      "cell_type": "code",
      "source": [
        "# dealing with missing values\n",
        "for dataset in datasets:\n",
        "  \n",
        "  Median = dataset['Age'].median()\n",
        "  null_age_count = dataset[\"Age\"].isna().sum()\n",
        "  dataset['Age'][np.isnan(dataset['Age'])]= [Median]*null_age_count\n",
        "  \n",
        "  dataset['hasCabin'] = True\n",
        "  null_cabin_count = dataset[\"Cabin\"].isna().sum()\n",
        "  dataset['hasCabin'][dataset['Cabin'].isnull()] = [False]*null_cabin_count\n",
        "      \n",
        "  dataset['Fare'][dataset['Fare'].isnull()] = dataset['Fare'].median()\n",
        "  dataset['Embarked'][dataset['Embarked'].isnull()] = \"C\"\n",
        "  \n",
        "  dataset.drop('Cabin', axis=1, inplace=True)"
      ],
      "execution_count": 0,
      "outputs": []
    },
    {
      "metadata": {
        "id": "OGvGmj6kh-nH",
        "colab_type": "code",
        "outputId": "ef028fb3-e615-40a7-bcb7-72aba4c814f5",
        "colab": {
          "base_uri": "https://localhost:8080/",
          "height": 443
        }
      },
      "cell_type": "code",
      "source": [
        "print(test.isna().sum())\n",
        "print(\"\\nNo more missing values\")\n",
        "train.head()"
      ],
      "execution_count": 0,
      "outputs": [
        {
          "output_type": "stream",
          "text": [
            "PassengerId    0\n",
            "Pclass         0\n",
            "Name           0\n",
            "Sex            0\n",
            "Age            0\n",
            "SibSp          0\n",
            "Parch          0\n",
            "Ticket         0\n",
            "Fare           0\n",
            "Embarked       0\n",
            "hasCabin       0\n",
            "dtype: int64\n",
            "\n",
            "No more missing values\n"
          ],
          "name": "stdout"
        },
        {
          "output_type": "execute_result",
          "data": {
            "text/html": [
              "<div>\n",
              "<style scoped>\n",
              "    .dataframe tbody tr th:only-of-type {\n",
              "        vertical-align: middle;\n",
              "    }\n",
              "\n",
              "    .dataframe tbody tr th {\n",
              "        vertical-align: top;\n",
              "    }\n",
              "\n",
              "    .dataframe thead th {\n",
              "        text-align: right;\n",
              "    }\n",
              "</style>\n",
              "<table border=\"1\" class=\"dataframe\">\n",
              "  <thead>\n",
              "    <tr style=\"text-align: right;\">\n",
              "      <th></th>\n",
              "      <th>PassengerId</th>\n",
              "      <th>Survived</th>\n",
              "      <th>Pclass</th>\n",
              "      <th>Name</th>\n",
              "      <th>Sex</th>\n",
              "      <th>Age</th>\n",
              "      <th>SibSp</th>\n",
              "      <th>Parch</th>\n",
              "      <th>Ticket</th>\n",
              "      <th>Fare</th>\n",
              "      <th>Embarked</th>\n",
              "      <th>hasCabin</th>\n",
              "    </tr>\n",
              "  </thead>\n",
              "  <tbody>\n",
              "    <tr>\n",
              "      <th>0</th>\n",
              "      <td>1</td>\n",
              "      <td>0</td>\n",
              "      <td>3</td>\n",
              "      <td>Braund, Mr. Owen Harris</td>\n",
              "      <td>male</td>\n",
              "      <td>22.0</td>\n",
              "      <td>1</td>\n",
              "      <td>0</td>\n",
              "      <td>A/5 21171</td>\n",
              "      <td>7.2500</td>\n",
              "      <td>S</td>\n",
              "      <td>False</td>\n",
              "    </tr>\n",
              "    <tr>\n",
              "      <th>1</th>\n",
              "      <td>2</td>\n",
              "      <td>1</td>\n",
              "      <td>1</td>\n",
              "      <td>Cumings, Mrs. John Bradley (Florence Briggs Th...</td>\n",
              "      <td>female</td>\n",
              "      <td>38.0</td>\n",
              "      <td>1</td>\n",
              "      <td>0</td>\n",
              "      <td>PC 17599</td>\n",
              "      <td>71.2833</td>\n",
              "      <td>C</td>\n",
              "      <td>True</td>\n",
              "    </tr>\n",
              "    <tr>\n",
              "      <th>2</th>\n",
              "      <td>3</td>\n",
              "      <td>1</td>\n",
              "      <td>3</td>\n",
              "      <td>Heikkinen, Miss. Laina</td>\n",
              "      <td>female</td>\n",
              "      <td>26.0</td>\n",
              "      <td>0</td>\n",
              "      <td>0</td>\n",
              "      <td>STON/O2. 3101282</td>\n",
              "      <td>7.9250</td>\n",
              "      <td>S</td>\n",
              "      <td>False</td>\n",
              "    </tr>\n",
              "    <tr>\n",
              "      <th>3</th>\n",
              "      <td>4</td>\n",
              "      <td>1</td>\n",
              "      <td>1</td>\n",
              "      <td>Futrelle, Mrs. Jacques Heath (Lily May Peel)</td>\n",
              "      <td>female</td>\n",
              "      <td>35.0</td>\n",
              "      <td>1</td>\n",
              "      <td>0</td>\n",
              "      <td>113803</td>\n",
              "      <td>53.1000</td>\n",
              "      <td>S</td>\n",
              "      <td>True</td>\n",
              "    </tr>\n",
              "    <tr>\n",
              "      <th>4</th>\n",
              "      <td>5</td>\n",
              "      <td>0</td>\n",
              "      <td>3</td>\n",
              "      <td>Allen, Mr. William Henry</td>\n",
              "      <td>male</td>\n",
              "      <td>35.0</td>\n",
              "      <td>0</td>\n",
              "      <td>0</td>\n",
              "      <td>373450</td>\n",
              "      <td>8.0500</td>\n",
              "      <td>S</td>\n",
              "      <td>False</td>\n",
              "    </tr>\n",
              "  </tbody>\n",
              "</table>\n",
              "</div>"
            ],
            "text/plain": [
              "   PassengerId  Survived  Pclass  \\\n",
              "0            1         0       3   \n",
              "1            2         1       1   \n",
              "2            3         1       3   \n",
              "3            4         1       1   \n",
              "4            5         0       3   \n",
              "\n",
              "                                                Name     Sex   Age  SibSp  \\\n",
              "0                            Braund, Mr. Owen Harris    male  22.0      1   \n",
              "1  Cumings, Mrs. John Bradley (Florence Briggs Th...  female  38.0      1   \n",
              "2                             Heikkinen, Miss. Laina  female  26.0      0   \n",
              "3       Futrelle, Mrs. Jacques Heath (Lily May Peel)  female  35.0      1   \n",
              "4                           Allen, Mr. William Henry    male  35.0      0   \n",
              "\n",
              "   Parch            Ticket     Fare Embarked  hasCabin  \n",
              "0      0         A/5 21171   7.2500        S     False  \n",
              "1      0          PC 17599  71.2833        C      True  \n",
              "2      0  STON/O2. 3101282   7.9250        S     False  \n",
              "3      0            113803  53.1000        S      True  \n",
              "4      0            373450   8.0500        S     False  "
            ]
          },
          "metadata": {
            "tags": []
          },
          "execution_count": 9
        }
      ]
    },
    {
      "metadata": {
        "id": "jU05P9UInUGo",
        "colab_type": "code",
        "colab": {}
      },
      "cell_type": "code",
      "source": [
        "# Let's transform this data set into integer dataset\n",
        "def get_title(name):\n",
        "    title_search = re.search(' ([A-Za-z]+)\\.', name)\n",
        "\n",
        "    if title_search:\n",
        "        return title_search.group(1)\n",
        "    return \"\"\n",
        "\n",
        "for dataset in datasets:\n",
        "  \n",
        "  dataset['Social_Category'] = dataset['Name'].apply(get_title)\n",
        "  dataset['Social_Category'] = dataset['Social_Category'].replace(['Lady', 'Countess','Capt', 'Col','Don', 'Dr', 'Major', 'Rev', 'Sir', 'Jonkheer', 'Dona'], 'Rare')\n",
        "  dataset['Social_Category'] = dataset['Social_Category'].replace('Mlle', 'Miss')\n",
        "  dataset['Social_Category'] = dataset['Social_Category'].replace('Ms', 'Miss')\n",
        "  dataset['Social_Category'] = dataset['Social_Category'].replace('Mme', 'Mrs')\n",
        "  dataset['Social_Category'] = dataset['Social_Category'].map({\"Mr\": 1, \"Miss\": 2, \"Mrs\": 3, \"Master\": 4, \"Rare\": 5})\n",
        "  dataset['Social_Category'] = dataset['Social_Category'].fillna(0)\n",
        "\n",
        "\n",
        "  dataset['Sex'] = dataset['Sex'].map({'female': 0, 'male': 1}).astype(int)\n",
        "  \n",
        "  dataset.loc[ dataset['Age'] <= 18, 'Age'] = 0\n",
        "  dataset.loc[(dataset['Age'] > 18) & (dataset['Age'] <= 40), 'Age'] = 1\n",
        "  dataset.loc[(dataset['Age'] > 40) & (dataset['Age'] <= 65), 'Age'] = 2\n",
        "  dataset.loc[ dataset['Age'] > 65, 'Age'] = 3 \n",
        "  dataset['Age'] = dataset['Age'].astype(int)\n",
        "    \n",
        "  dataset['Embarked'] = dataset['Embarked'].map( {'S': 0, 'C': 1, 'Q': 2} ).astype(int)\n",
        "\n",
        "  dataset.loc[ dataset['Fare'] <= 7.91, 'Fare'] = 0\n",
        "  dataset.loc[(dataset['Fare'] > 7.91) & (dataset['Fare'] <= 14.454), 'Fare'] = 1\n",
        "  dataset.loc[(dataset['Fare'] > 14.454) & (dataset['Fare'] <= 31), 'Fare']   = 2\n",
        "  dataset.loc[ dataset['Fare'] > 31, 'Fare'] = 3\n",
        "  dataset['Fare'] = dataset['Fare'].astype(int)\n",
        "    \n",
        "  dataset['hasCabin'] = dataset['hasCabin'].map({False: 0, True: 1}).astype(int)\n",
        "    \n",
        "  dataset['Handicap'] = dataset['SibSp'] + dataset['Parch']\n",
        "  \n"
      ],
      "execution_count": 0,
      "outputs": []
    },
    {
      "metadata": {
        "id": "zXnCwrr3wcmL",
        "colab_type": "code",
        "outputId": "169fc51a-db08-4d3d-bed6-a7cca903790e",
        "colab": {
          "base_uri": "https://localhost:8080/",
          "height": 203
        }
      },
      "cell_type": "code",
      "source": [
        "train_set = train[[\"Survived\", \"Pclass\", \"Sex\", \"Age\", \"SibSp\", \"Parch\", \"Fare\", \"Embarked\", \"hasCabin\", \"Social_Category\", \"Handicap\"]]\n",
        "test_set = test[[\"Pclass\", \"Sex\", \"Age\", \"SibSp\", \"Parch\", \"Fare\", \"Embarked\", \"hasCabin\", \"Social_Category\", \"Handicap\"]]\n",
        "test_set.head()\n"
      ],
      "execution_count": 0,
      "outputs": [
        {
          "output_type": "execute_result",
          "data": {
            "text/html": [
              "<div>\n",
              "<style scoped>\n",
              "    .dataframe tbody tr th:only-of-type {\n",
              "        vertical-align: middle;\n",
              "    }\n",
              "\n",
              "    .dataframe tbody tr th {\n",
              "        vertical-align: top;\n",
              "    }\n",
              "\n",
              "    .dataframe thead th {\n",
              "        text-align: right;\n",
              "    }\n",
              "</style>\n",
              "<table border=\"1\" class=\"dataframe\">\n",
              "  <thead>\n",
              "    <tr style=\"text-align: right;\">\n",
              "      <th></th>\n",
              "      <th>Pclass</th>\n",
              "      <th>Sex</th>\n",
              "      <th>Age</th>\n",
              "      <th>SibSp</th>\n",
              "      <th>Parch</th>\n",
              "      <th>Fare</th>\n",
              "      <th>Embarked</th>\n",
              "      <th>hasCabin</th>\n",
              "      <th>Social_Category</th>\n",
              "      <th>Handicap</th>\n",
              "    </tr>\n",
              "  </thead>\n",
              "  <tbody>\n",
              "    <tr>\n",
              "      <th>0</th>\n",
              "      <td>3</td>\n",
              "      <td>1</td>\n",
              "      <td>1</td>\n",
              "      <td>0</td>\n",
              "      <td>0</td>\n",
              "      <td>0</td>\n",
              "      <td>2</td>\n",
              "      <td>0</td>\n",
              "      <td>1</td>\n",
              "      <td>0</td>\n",
              "    </tr>\n",
              "    <tr>\n",
              "      <th>1</th>\n",
              "      <td>3</td>\n",
              "      <td>0</td>\n",
              "      <td>2</td>\n",
              "      <td>1</td>\n",
              "      <td>0</td>\n",
              "      <td>0</td>\n",
              "      <td>0</td>\n",
              "      <td>0</td>\n",
              "      <td>3</td>\n",
              "      <td>1</td>\n",
              "    </tr>\n",
              "    <tr>\n",
              "      <th>2</th>\n",
              "      <td>2</td>\n",
              "      <td>1</td>\n",
              "      <td>2</td>\n",
              "      <td>0</td>\n",
              "      <td>0</td>\n",
              "      <td>1</td>\n",
              "      <td>2</td>\n",
              "      <td>0</td>\n",
              "      <td>1</td>\n",
              "      <td>0</td>\n",
              "    </tr>\n",
              "    <tr>\n",
              "      <th>3</th>\n",
              "      <td>3</td>\n",
              "      <td>1</td>\n",
              "      <td>1</td>\n",
              "      <td>0</td>\n",
              "      <td>0</td>\n",
              "      <td>1</td>\n",
              "      <td>0</td>\n",
              "      <td>0</td>\n",
              "      <td>1</td>\n",
              "      <td>0</td>\n",
              "    </tr>\n",
              "    <tr>\n",
              "      <th>4</th>\n",
              "      <td>3</td>\n",
              "      <td>0</td>\n",
              "      <td>1</td>\n",
              "      <td>1</td>\n",
              "      <td>1</td>\n",
              "      <td>1</td>\n",
              "      <td>0</td>\n",
              "      <td>0</td>\n",
              "      <td>3</td>\n",
              "      <td>2</td>\n",
              "    </tr>\n",
              "  </tbody>\n",
              "</table>\n",
              "</div>"
            ],
            "text/plain": [
              "   Pclass  Sex  Age  SibSp  Parch  Fare  Embarked  hasCabin  Social_Category  \\\n",
              "0       3    1    1      0      0     0         2         0                1   \n",
              "1       3    0    2      1      0     0         0         0                3   \n",
              "2       2    1    2      0      0     1         2         0                1   \n",
              "3       3    1    1      0      0     1         0         0                1   \n",
              "4       3    0    1      1      1     1         0         0                3   \n",
              "\n",
              "   Handicap  \n",
              "0         0  \n",
              "1         1  \n",
              "2         0  \n",
              "3         0  \n",
              "4         2  "
            ]
          },
          "metadata": {
            "tags": []
          },
          "execution_count": 11
        }
      ]
    },
    {
      "metadata": {
        "id": "p2OYG-UP1EiL",
        "colab_type": "code",
        "colab": {}
      },
      "cell_type": "code",
      "source": [
        "train_set.to_csv('train_set.csv', index=False)\n",
        "test_set.to_csv('test_set.csv', index=False)\n"
      ],
      "execution_count": 0,
      "outputs": []
    },
    {
      "metadata": {
        "id": "gTy_lMweMkVg",
        "colab_type": "text"
      },
      "cell_type": "markdown",
      "source": [
        "# **1-Logistic regression**\n",
        "\n",
        "---\n",
        "\n"
      ]
    },
    {
      "metadata": {
        "id": "gZbdSbnwJ4x9",
        "colab_type": "code",
        "outputId": "7942e1f0-1269-44c4-8f6b-15e2634fcb06",
        "colab": {
          "base_uri": "https://localhost:8080/",
          "height": 86
        }
      },
      "cell_type": "code",
      "source": [
        "X_train, y_train = train_set.loc[:, train_set.columns != 'Survived'], train_set.loc[:, train_set.columns == 'Survived']\n",
        "logreg = LogisticRegression()\n",
        "logreg.fit(X_train, y_train)"
      ],
      "execution_count": 0,
      "outputs": [
        {
          "output_type": "execute_result",
          "data": {
            "text/plain": [
              "LogisticRegression(C=1.0, class_weight=None, dual=False, fit_intercept=True,\n",
              "          intercept_scaling=1, max_iter=100, multi_class='warn',\n",
              "          n_jobs=None, penalty='l2', random_state=None, solver='warn',\n",
              "          tol=0.0001, verbose=0, warm_start=False)"
            ]
          },
          "metadata": {
            "tags": []
          },
          "execution_count": 13
        }
      ]
    },
    {
      "metadata": {
        "id": "3WxuUpNSJ4gI",
        "colab_type": "code",
        "outputId": "6a321fab-e87f-4bdb-f3dc-7ab90a60d0d4",
        "colab": {
          "base_uri": "https://localhost:8080/",
          "height": 34
        }
      },
      "cell_type": "code",
      "source": [
        "X_test = test_set\n",
        "y_test = (pd.read_csv('./gender_submission.csv'))['Survived']\n",
        "y_pred = logreg.predict(X_test)\n",
        "print('Accuracy of logistic regression classifier on test set: {:.2f}'.format(logreg.score(X_test, y_test)))"
      ],
      "execution_count": 0,
      "outputs": [
        {
          "output_type": "stream",
          "text": [
            "Accuracy of logistic regression classifier on test set: 0.94\n"
          ],
          "name": "stdout"
        }
      ]
    },
    {
      "metadata": {
        "id": "0CrtUmg0MAsk",
        "colab_type": "code",
        "outputId": "6a19d357-97d3-41d6-b529-aad5d70bfe01",
        "colab": {
          "base_uri": "https://localhost:8080/",
          "height": 206
        }
      },
      "cell_type": "code",
      "source": [
        "print(confusion_matrix(y_test, y_pred))\n",
        "print(classification_report(y_test, y_pred))"
      ],
      "execution_count": 0,
      "outputs": [
        {
          "output_type": "stream",
          "text": [
            "[[251  15]\n",
            " [  9 143]]\n",
            "              precision    recall  f1-score   support\n",
            "\n",
            "           0       0.97      0.94      0.95       266\n",
            "           1       0.91      0.94      0.92       152\n",
            "\n",
            "   micro avg       0.94      0.94      0.94       418\n",
            "   macro avg       0.94      0.94      0.94       418\n",
            "weighted avg       0.94      0.94      0.94       418\n",
            "\n"
          ],
          "name": "stdout"
        }
      ]
    },
    {
      "metadata": {
        "id": "LYB3qqnvP2Hx",
        "colab_type": "code",
        "colab": {}
      },
      "cell_type": "code",
      "source": [
        ""
      ],
      "execution_count": 0,
      "outputs": []
    },
    {
      "metadata": {
        "id": "K74tth62UTkd",
        "colab_type": "text"
      },
      "cell_type": "markdown",
      "source": [
        "# 2-Naive Bayes **Classifier**\n",
        "\n",
        "\n",
        "---\n",
        "\n"
      ]
    },
    {
      "metadata": {
        "id": "R_6_YvZAXLO0",
        "colab_type": "code",
        "outputId": "6fe8c36c-a008-4336-d104-3ed32db57917",
        "colab": {
          "base_uri": "https://localhost:8080/",
          "height": 34
        }
      },
      "cell_type": "code",
      "source": [
        "gnb = GaussianNB()\n",
        "gnb.fit(X_train, y_train)"
      ],
      "execution_count": 0,
      "outputs": [
        {
          "output_type": "execute_result",
          "data": {
            "text/plain": [
              "GaussianNB(priors=None, var_smoothing=1e-09)"
            ]
          },
          "metadata": {
            "tags": []
          },
          "execution_count": 16
        }
      ]
    },
    {
      "metadata": {
        "id": "YODXIdSgP32-",
        "colab_type": "code",
        "outputId": "0aad9e8c-1d63-4f71-db58-5dae063c5319",
        "colab": {
          "base_uri": "https://localhost:8080/",
          "height": 34
        }
      },
      "cell_type": "code",
      "source": [
        "y_pred = gnb.predict(X_test)\n",
        "\n",
        "# Print results\n",
        "print(\"Number of mislabeled points out of a total {} points : {}, performance {:05.2f}%\"\n",
        "      .format(\n",
        "          X_test.shape[0],\n",
        "          (y_test != y_pred).sum(),\n",
        "          100*(1-(y_test != y_pred).sum()/X_test.shape[0])\n",
        "))"
      ],
      "execution_count": 0,
      "outputs": [
        {
          "output_type": "stream",
          "text": [
            "Number of mislabeled points out of a total 418 points : 62, performance 85.17%\n"
          ],
          "name": "stdout"
        }
      ]
    },
    {
      "metadata": {
        "id": "4VUUGuy1XeOf",
        "colab_type": "text"
      },
      "cell_type": "markdown",
      "source": [
        "# 3-Support Vector **Machine**\n",
        "\n",
        "---\n",
        "\n"
      ]
    },
    {
      "metadata": {
        "id": "L6FILWHk7a3T",
        "colab_type": "text"
      },
      "cell_type": "markdown",
      "source": [
        "\n",
        "\n",
        "## 1.   **Linear kernal**\n",
        "\n"
      ]
    },
    {
      "metadata": {
        "id": "94NrfM5-XX5_",
        "colab_type": "code",
        "outputId": "267a48ea-5e40-402f-b651-fb2fb700470c",
        "colab": {
          "base_uri": "https://localhost:8080/",
          "height": 86
        }
      },
      "cell_type": "code",
      "source": [
        "svclassifier = SVC(kernel='linear')  \n",
        "svclassifier.fit(X_train, y_train)"
      ],
      "execution_count": 0,
      "outputs": [
        {
          "output_type": "execute_result",
          "data": {
            "text/plain": [
              "SVC(C=1.0, cache_size=200, class_weight=None, coef0=0.0,\n",
              "  decision_function_shape='ovr', degree=3, gamma='auto_deprecated',\n",
              "  kernel='linear', max_iter=-1, probability=False, random_state=None,\n",
              "  shrinking=True, tol=0.001, verbose=False)"
            ]
          },
          "metadata": {
            "tags": []
          },
          "execution_count": 18
        }
      ]
    },
    {
      "metadata": {
        "id": "N0pnAcPSYB8D",
        "colab_type": "code",
        "outputId": "74266c47-638d-4a2b-d2a5-9b7e9cc1626b",
        "colab": {
          "base_uri": "https://localhost:8080/",
          "height": 206
        }
      },
      "cell_type": "code",
      "source": [
        "y_pred = svclassifier.predict(X_test)\n",
        "print(confusion_matrix(y_test,y_pred))\n",
        "print(classification_report(y_test,y_pred))"
      ],
      "execution_count": 0,
      "outputs": [
        {
          "output_type": "stream",
          "text": [
            "[[262   4]\n",
            " [  3 149]]\n",
            "              precision    recall  f1-score   support\n",
            "\n",
            "           0       0.99      0.98      0.99       266\n",
            "           1       0.97      0.98      0.98       152\n",
            "\n",
            "   micro avg       0.98      0.98      0.98       418\n",
            "   macro avg       0.98      0.98      0.98       418\n",
            "weighted avg       0.98      0.98      0.98       418\n",
            "\n"
          ],
          "name": "stdout"
        }
      ]
    },
    {
      "metadata": {
        "id": "4WsadeaiJM2P",
        "colab_type": "text"
      },
      "cell_type": "markdown",
      "source": [
        "\n",
        "\n",
        "\n",
        "## **2.   Polynomial kernal**\n",
        "\n"
      ]
    },
    {
      "metadata": {
        "id": "RjN46NyRA-7W",
        "colab_type": "code",
        "outputId": "b202dc8f-bcf8-491c-e4f5-af1b484d8851",
        "colab": {
          "base_uri": "https://localhost:8080/",
          "height": 86
        }
      },
      "cell_type": "code",
      "source": [
        "svclassifier = SVC(kernel='poly', degree=8)  \n",
        "svclassifier.fit(X_train, y_train)  "
      ],
      "execution_count": 0,
      "outputs": [
        {
          "output_type": "execute_result",
          "data": {
            "text/plain": [
              "SVC(C=1.0, cache_size=200, class_weight=None, coef0=0.0,\n",
              "  decision_function_shape='ovr', degree=8, gamma='auto_deprecated',\n",
              "  kernel='poly', max_iter=-1, probability=False, random_state=None,\n",
              "  shrinking=True, tol=0.001, verbose=False)"
            ]
          },
          "metadata": {
            "tags": []
          },
          "execution_count": 20
        }
      ]
    },
    {
      "metadata": {
        "id": "tNgowOA7JUf3",
        "colab_type": "code",
        "outputId": "49b8ae80-6e2e-44bd-cc8e-fbb8f2456a74",
        "colab": {
          "base_uri": "https://localhost:8080/",
          "height": 206
        }
      },
      "cell_type": "code",
      "source": [
        "y_pred = svclassifier.predict(X_test)  \n",
        "print(confusion_matrix(y_test, y_pred))  \n",
        "print(classification_report(y_test, y_pred))"
      ],
      "execution_count": 0,
      "outputs": [
        {
          "output_type": "stream",
          "text": [
            "[[236  30]\n",
            " [ 32 120]]\n",
            "              precision    recall  f1-score   support\n",
            "\n",
            "           0       0.88      0.89      0.88       266\n",
            "           1       0.80      0.79      0.79       152\n",
            "\n",
            "   micro avg       0.85      0.85      0.85       418\n",
            "   macro avg       0.84      0.84      0.84       418\n",
            "weighted avg       0.85      0.85      0.85       418\n",
            "\n"
          ],
          "name": "stdout"
        }
      ]
    },
    {
      "metadata": {
        "id": "O87oWoWyKtvb",
        "colab_type": "text"
      },
      "cell_type": "markdown",
      "source": [
        "\n",
        "## **3.   Gaussian Kernel**\n",
        "\n"
      ]
    },
    {
      "metadata": {
        "id": "MopIjo2KKsaQ",
        "colab_type": "code",
        "outputId": "7a233acc-44c5-41ce-aab7-906db86a7b10",
        "colab": {
          "base_uri": "https://localhost:8080/",
          "height": 86
        }
      },
      "cell_type": "code",
      "source": [
        "svclassifier = SVC(kernel='rbf')  \n",
        "svclassifier.fit(X_train, y_train)  "
      ],
      "execution_count": 0,
      "outputs": [
        {
          "output_type": "execute_result",
          "data": {
            "text/plain": [
              "SVC(C=1.0, cache_size=200, class_weight=None, coef0=0.0,\n",
              "  decision_function_shape='ovr', degree=3, gamma='auto_deprecated',\n",
              "  kernel='rbf', max_iter=-1, probability=False, random_state=None,\n",
              "  shrinking=True, tol=0.001, verbose=False)"
            ]
          },
          "metadata": {
            "tags": []
          },
          "execution_count": 22
        }
      ]
    },
    {
      "metadata": {
        "id": "IZMtWTZqMIl3",
        "colab_type": "code",
        "outputId": "db8ead06-2d6e-44af-c27f-ff63359a727e",
        "colab": {
          "base_uri": "https://localhost:8080/",
          "height": 206
        }
      },
      "cell_type": "code",
      "source": [
        "y_pred = svclassifier.predict(X_test)  \n",
        "print(confusion_matrix(y_test, y_pred))  \n",
        "print(classification_report(y_test, y_pred))\n"
      ],
      "execution_count": 0,
      "outputs": [
        {
          "output_type": "stream",
          "text": [
            "[[247  19]\n",
            " [  7 145]]\n",
            "              precision    recall  f1-score   support\n",
            "\n",
            "           0       0.97      0.93      0.95       266\n",
            "           1       0.88      0.95      0.92       152\n",
            "\n",
            "   micro avg       0.94      0.94      0.94       418\n",
            "   macro avg       0.93      0.94      0.93       418\n",
            "weighted avg       0.94      0.94      0.94       418\n",
            "\n"
          ],
          "name": "stdout"
        }
      ]
    },
    {
      "metadata": {
        "id": "IvpWpJ0tOwU-",
        "colab_type": "text"
      },
      "cell_type": "markdown",
      "source": [
        "## **4.   Sigmoïd Kernel**"
      ]
    },
    {
      "metadata": {
        "id": "nhhsoqcBN_ef",
        "colab_type": "code",
        "outputId": "c2413620-25cb-4214-d329-ee0646e04237",
        "colab": {
          "base_uri": "https://localhost:8080/",
          "height": 86
        }
      },
      "cell_type": "code",
      "source": [
        "svclassifier = SVC(kernel='sigmoid')  \n",
        "svclassifier.fit(X_train, y_train)  "
      ],
      "execution_count": 0,
      "outputs": [
        {
          "output_type": "execute_result",
          "data": {
            "text/plain": [
              "SVC(C=1.0, cache_size=200, class_weight=None, coef0=0.0,\n",
              "  decision_function_shape='ovr', degree=3, gamma='auto_deprecated',\n",
              "  kernel='sigmoid', max_iter=-1, probability=False, random_state=None,\n",
              "  shrinking=True, tol=0.001, verbose=False)"
            ]
          },
          "metadata": {
            "tags": []
          },
          "execution_count": 24
        }
      ]
    },
    {
      "metadata": {
        "id": "TXheyDalPEdZ",
        "colab_type": "code",
        "outputId": "787ae120-25f1-4a46-820d-ac2266e000fd",
        "colab": {
          "base_uri": "https://localhost:8080/",
          "height": 206
        }
      },
      "cell_type": "code",
      "source": [
        "y_pred = svclassifier.predict(X_test)  \n",
        "print(confusion_matrix(y_test, y_pred))  \n",
        "print(classification_report(y_test, y_pred))"
      ],
      "execution_count": 0,
      "outputs": [
        {
          "output_type": "stream",
          "text": [
            "[[203  63]\n",
            " [ 44 108]]\n",
            "              precision    recall  f1-score   support\n",
            "\n",
            "           0       0.82      0.76      0.79       266\n",
            "           1       0.63      0.71      0.67       152\n",
            "\n",
            "   micro avg       0.74      0.74      0.74       418\n",
            "   macro avg       0.73      0.74      0.73       418\n",
            "weighted avg       0.75      0.74      0.75       418\n",
            "\n"
          ],
          "name": "stdout"
        }
      ]
    },
    {
      "metadata": {
        "id": "iUwEStfTqkhm",
        "colab_type": "text"
      },
      "cell_type": "markdown",
      "source": [
        "# 4-Decision Trees\n",
        "\n",
        "---\n"
      ]
    },
    {
      "metadata": {
        "id": "gUhpWUn8wcoI",
        "colab_type": "code",
        "outputId": "9a967583-a7eb-4845-bc39-51c50c71c10e",
        "colab": {
          "base_uri": "https://localhost:8080/",
          "height": 120
        }
      },
      "cell_type": "code",
      "source": [
        "decision_clf = DecisionTreeClassifier(criterion='entropy', random_state=0)\n",
        "decision_clf.fit(X_train, y_train)"
      ],
      "execution_count": 0,
      "outputs": [
        {
          "output_type": "execute_result",
          "data": {
            "text/plain": [
              "DecisionTreeClassifier(class_weight=None, criterion='entropy', max_depth=None,\n",
              "            max_features=None, max_leaf_nodes=None,\n",
              "            min_impurity_decrease=0.0, min_impurity_split=None,\n",
              "            min_samples_leaf=1, min_samples_split=2,\n",
              "            min_weight_fraction_leaf=0.0, presort=False, random_state=0,\n",
              "            splitter='best')"
            ]
          },
          "metadata": {
            "tags": []
          },
          "execution_count": 26
        }
      ]
    },
    {
      "metadata": {
        "id": "tq_iGx_hygkK",
        "colab_type": "code",
        "outputId": "0fb494ff-626a-4c71-c1ef-40b790fd38e5",
        "colab": {
          "base_uri": "https://localhost:8080/",
          "height": 34
        }
      },
      "cell_type": "code",
      "source": [
        "y_pred = decision_clf.predict(X_test)\n",
        "print('Accuracy score is: ', accuracy_score(y_test, y_pred)*100)"
      ],
      "execution_count": 0,
      "outputs": [
        {
          "output_type": "stream",
          "text": [
            "Accuracy score is:  82.05741626794259\n"
          ],
          "name": "stdout"
        }
      ]
    },
    {
      "metadata": {
        "id": "_Ek1jJGMMUqD",
        "colab_type": "code",
        "colab": {}
      },
      "cell_type": "code",
      "source": [
        ""
      ],
      "execution_count": 0,
      "outputs": []
    },
    {
      "metadata": {
        "id": "Bl3RkEU7ItLR",
        "colab_type": "code",
        "colab": {}
      },
      "cell_type": "code",
      "source": [
        "# Random Forest Algorithm\n",
        "from random import seed\n",
        "from random import randrange\n",
        "from csv import reader\n",
        "from math import sqrt"
      ],
      "execution_count": 0,
      "outputs": []
    },
    {
      "metadata": {
        "id": "NgR_BckML2yE",
        "colab_type": "code",
        "colab": {}
      },
      "cell_type": "code",
      "source": [
        "# Load a CSV file\n",
        "def load_csv(filename):\n",
        "    #init the dataset as a list\n",
        "\tdataset = list()\n",
        "    #open it as a readable file\n",
        "\twith open(filename, 'r') as file:\n",
        "        #init the csv reader\n",
        "\t\tcsv_reader = reader(file)\n",
        "        #for every row in the dataset\n",
        "\t\tfor row in csv_reader:\n",
        "\t\t\tif not row:\n",
        "\t\t\t\tcontinue\n",
        "            #add that row as an element in our dataset list (2D Matrix of values)\n",
        "\t\t\tdataset.append(row)\n",
        "    #return in-memory data matrix\n",
        "\treturn dataset\n",
        " \n",
        "# Convert string column to float\n",
        "def str_column_to_float(dataset, column):\n",
        "    #iterate throw all the rows in our data matrix\n",
        "\tfor row in dataset:\n",
        "        #for the given column index, convert all values in that column to floats\n",
        "\t\trow[column] = float(row[column].strip())\n",
        " \n",
        "# Convert string column to integer\n",
        "def str_column_to_int(dataset, column):\n",
        "    #store a given column \n",
        "    class_values = [row[column] for row in dataset]\n",
        "    #create an unordered collection with no duplicates, only unique valeus\n",
        "    unique = set(class_values)\n",
        "    #init a lookup table\n",
        "    lookup = dict()\n",
        "    #for each element in the column\n",
        "    for i, value in enumerate(unique):\n",
        "        #add it to our lookup table\n",
        "        lookup[value] = i\n",
        "    #the lookup table stores pointers to the strings\n",
        "    for row in dataset:\n",
        "        row[column] = lookup[row[column]]\n",
        "    #return the lookup table\n",
        "    return lookup"
      ],
      "execution_count": 0,
      "outputs": []
    },
    {
      "metadata": {
        "id": "7-TqYbZMI7wc",
        "colab_type": "code",
        "colab": {}
      },
      "cell_type": "code",
      "source": [
        "# Split a dataset into k folds\n",
        "# the original sample is randomly partitioned into k equal sized subsamples. \n",
        "#Of the k subsamples, a single subsample is retained as the validation data \n",
        "#for testing the model, and the remaining k − 1 subsamples are used as training data. \n",
        "#The cross-validation process is then repeated k times (the folds),\n",
        "#with each of the k subsamples used exactly once as the validation data.\n",
        "def cross_validation_split(dataset, n_folds):\n",
        "\tdataset_split = list()\n",
        "\tdataset_copy = list(dataset)\n",
        "\tfold_size = int(len(dataset) / n_folds)\n",
        "\tfor i in range(n_folds):\n",
        "\t\tfold = list()\n",
        "\t\twhile len(fold) < fold_size:\n",
        "\t\t\tindex = randrange(len(dataset_copy))\n",
        "\t\t\tfold.append(dataset_copy.pop(index))\n",
        "\t\tdataset_split.append(fold)\n",
        "\treturn dataset_split\n",
        "\n",
        "# Split a dataset based on an attribute and an attribute value\n",
        "def test_split(index, value, dataset):\n",
        "    #init 2 empty lists for storing split dataubsets\n",
        "\tleft, right = list(), list()\n",
        "    #for every row\n",
        "\tfor row in dataset:\n",
        "        #if the value at that row is less than the given value\n",
        "\t\tif row[index] < value:\n",
        "            #add it to list 1\n",
        "\t\t\tleft.append(row)\n",
        "\t\telse:\n",
        "            #else add it list 2 \n",
        "\t\t\tright.append(row)\n",
        "    #return both lists\n",
        "\treturn left, right\n",
        " \n",
        "# Calculate accuracy percentage\n",
        "def accuracy_metric(actual, predicted):\n",
        "    #how many correct predictions?\n",
        "\tcorrect = 0\n",
        "    #for each actual label\n",
        "\tfor i in range(len(actual)):\n",
        "        #if actual matches predicted label\n",
        "\t\tif actual[i] == predicted[i]:\n",
        "            #add 1 to the correct iterator\n",
        "\t\t\tcorrect += 1\n",
        "    #return percentage of predictions that were correct\n",
        "\treturn correct / float(len(actual)) * 100.0\n",
        " \n",
        "# Evaluate an algorithm using a cross validation split\n",
        "def evaluate_algorithm(dataset, algorithm, n_folds, *args):\n",
        "    #folds are the subsamples used to train and validate model\n",
        "\tfolds = cross_validation_split(dataset, n_folds)\n",
        "\tscores = list()\n",
        "    #for each subsample\n",
        "\tfor fold in folds:\n",
        "        #create a copy of the data\n",
        "\t\ttrain_set = list(folds)\n",
        "        #remove the given subsample\n",
        "\t\ttrain_set.remove(fold)\n",
        "\t\ttrain_set = sum(train_set, [])\n",
        "        #init a test set\n",
        "\t\ttest_set = list()\n",
        "        #add each row in a given subsample to the test set\n",
        "\t\tfor row in fold:\n",
        "\t\t\trow_copy = list(row)\n",
        "\t\t\ttest_set.append(row_copy)\n",
        "\t\t\trow_copy[-1] = None\n",
        "        #get predicted labls\n",
        "\t\tpredicted = algorithm(train_set, test_set, *args)\n",
        "        #get actual labels\n",
        "\t\tactual = [row[-1] for row in fold]\n",
        "        #compare accuracy\n",
        "\t\taccuracy = accuracy_metric(actual, predicted)\n",
        "        #add it to scores list, for each fold\n",
        "\t\tscores.append(accuracy)\n",
        "    #return all accuracy scores\n",
        "\treturn scores\n",
        " \n",
        " \n",
        "# Calculate the Gini index for a split dataset\n",
        "## this is the name of the cost function used to evaluate splits in the dataset.\n",
        "# this is a measure of how often a randomly chosen element from the set \n",
        "#would be incorrectly labeled if it was randomly labeled according to the distribution\n",
        "#of labels in the subset. Can be computed by summing the probability\n",
        "#of an item with label i being chosen times the probability \n",
        "#of a mistake in categorizing that item. \n",
        "#It reaches its minimum (zero) when all cases in the node \n",
        "#fall into a single target category.\n",
        "#A split in the dataset involves one input attribute and one value for that attribute. \n",
        "#It can be used to divide training patterns into two groups of rows.\n",
        "#A Gini score gives an idea of how good a split is by how mixed the classes \n",
        "#are in the two groups created by the split. A perfect separation results in \n",
        "#a Gini score of 0, whereas the worst case split that results in 50/50 classes \n",
        "#in each group results in a Gini score of 1.0 (for a 2 class problem).\n",
        "#We first need to calculate the proportion of classes in each group.\n",
        "def gini_index(groups, class_values):\n",
        "\tgini = 0.0\n",
        "    #for each class\n",
        "\tfor class_value in class_values:\n",
        "        #a random subset of that class\n",
        "\t\tfor group in groups:\n",
        "\t\t\tsize = len(group)\n",
        "\t\t\tif size == 0:\n",
        "\t\t\t\tcontinue\n",
        "            #average of all class values\n",
        "\t\t\tproportion = [row[-1] for row in group].count(class_value) / float(size)\n",
        "            #  sum all (p * 1-p) values, this is gini index\n",
        "\t\t\tgini += (proportion * (1.0 - proportion))\n",
        "\treturn gini\n",
        " \n",
        "# Select the best split point for a dataset\n",
        "#This is an exhaustive and greedy algorithm\n",
        "def get_split(dataset, n_features):\n",
        "    ##Given a dataset, we must check every value on each attribute as a candidate split, \n",
        "    #evaluate the cost of the split and find the best possible split we could make.\n",
        "\tclass_values = list(set(row[-1] for row in dataset))\n",
        "\tb_index, b_value, b_score, b_groups = 999, 999, 999, None\n",
        "\tfeatures = list()\n",
        "\twhile len(features) < n_features:\n",
        "\t\tindex = randrange(len(dataset[0])-1)\n",
        "\t\tif index not in features:\n",
        "\t\t\tfeatures.append(index)\n",
        "\tfor index in features:\n",
        "\t\tfor row in dataset:\n",
        "            ##When selecting the best split and using it as a new node for the tree \n",
        "            #we will store the index of the chosen attribute, the value of that attribute \n",
        "            #by which to split and the two groups of data split by the chosen split point.\n",
        "            ##Each group of data is its own small dataset of just those rows assigned to the \n",
        "            #left or right group by the splitting process. You can imagine how we might split \n",
        "            #each group again, recursively as we build out our decision tree.\n",
        "\t\t\tgroups = test_split(index, row[index], dataset)\n",
        "\t\t\tgini = gini_index(groups, class_values)\n",
        "\t\t\tif gini < b_score:\n",
        "\t\t\t\tb_index, b_value, b_score, b_groups = index, row[index], gini, groups\n",
        "    ##Once the best split is found, we can use it as a node in our decision tree.\n",
        "    ##We will use a dictionary to represent a node in the decision tree as \n",
        "    #we can store data by name. \n",
        "\treturn {'index':b_index, 'value':b_value, 'groups':b_groups}\n",
        " \n",
        "# Create a terminal node value\n",
        "\n",
        "def to_terminal(group):\n",
        "    #select a class value for a group of rows. \n",
        "\toutcomes = [row[-1] for row in group]\n",
        "    #returns the most common output value in a list of rows.\n",
        "\treturn max(set(outcomes), key=outcomes.count)\n",
        " \n",
        "#Create child splits for a node or make terminal\n",
        "#Building a decision tree involves calling the above developed get_split() function over \n",
        "#and over again on the groups created for each node.\n",
        "#New nodes added to an existing node are called child nodes. \n",
        "#A node may have zero children (a terminal node), one child (one side makes a prediction directly) \n",
        "#or two child nodes. We will refer to the child nodes as left and right in the dictionary representation \n",
        "#of a given node.\n",
        "#Once a node is created, we can create child nodes recursively on each group of data from \n",
        "#the split by calling the same function again.\n",
        "def split(node, max_depth, min_size, n_features, depth):\n",
        "    #Firstly, the two groups of data split by the node are extracted for use and \n",
        "    #deleted from the node. As we work on these groups the node no longer requires access to these data.\n",
        "\tleft, right = node['groups']\n",
        "\tdel(node['groups'])\n",
        "    \n",
        "    #Next, we check if either left or right group of rows is empty and if so we create \n",
        "    #a terminal node using what records we do have.\n",
        "\t# check for a no split\n",
        "\tif not left or not right:\n",
        "\t\tnode['left'] = node['right'] = to_terminal(left + right)\n",
        "\t\treturn\n",
        "    #We then check if we have reached our maximum depth and if so we create a terminal node.\n",
        "\t# check for max depth\n",
        "\tif depth >= max_depth:\n",
        "\t\tnode['left'], node['right'] = to_terminal(left), to_terminal(right)\n",
        "\t\treturn\n",
        "    #We then process the left child, creating a terminal node if the group of rows is too small, \n",
        "    #otherwise creating and adding the left node in a depth first fashion until the bottom of \n",
        "    #the tree is reached on this branch.\n",
        "\t# process left child\n",
        "\tif len(left) <= min_size:\n",
        "\t\tnode['left'] = to_terminal(left)\n",
        "\telse:\n",
        "\t\tnode['left'] = get_split(left, n_features)\n",
        "\t\tsplit(node['left'], max_depth, min_size, n_features, depth+1)\n",
        "\t# process right child\n",
        "    #The right side is then processed in the same manner, \n",
        "    #as we rise back up the constructed tree to the root.\n",
        "\tif len(right) <= min_size:\n",
        "\t\tnode['right'] = to_terminal(right)\n",
        "\telse:\n",
        "\t\tnode['right'] = get_split(right, n_features)\n",
        "\t\tsplit(node['right'], max_depth, min_size, n_features, depth+1)\n",
        " \n",
        "#Build a decision tree\n",
        "def build_tree(train, max_depth, min_size, n_features):\n",
        "    #Building the tree involves creating the root node and \n",
        "\troot = get_split(train, n_features)\n",
        "    #calling the split() function that then calls itself recursively to build out the whole tree.\n",
        "\tsplit(root, max_depth, min_size, n_features, 1)\n",
        "\treturn root\n",
        " \n",
        "# Make a prediction with a decision tree\n",
        "def predict(node, row):\n",
        "    #Making predictions with a decision tree involves navigating the \n",
        "    #tree with the specifically provided row of data.\n",
        "    #Again, we can implement this using a recursive function, where the same prediction routine is \n",
        "    #called again with the left or the right child nodes, depending on how the split affects the provided data.\n",
        "    #We must check if a child node is either a terminal value to be returned as the prediction\n",
        "    #, or if it is a dictionary node containing another level of the tree to be considered.\n",
        "\tif row[node['index']] < node['value']:\n",
        "\t\tif isinstance(node['left'], dict):\n",
        "\t\t\treturn predict(node['left'], row)\n",
        "\t\telse:\n",
        "\t\t\treturn node['left']\n",
        "\telse:\n",
        "\t\tif isinstance(node['right'], dict):\n",
        "\t\t\treturn predict(node['right'], row)\n",
        "\t\telse:\n",
        "\t\t\treturn node['right']\n",
        " \n",
        "# Create a random subsample from the dataset with replacement\n",
        "def subsample(dataset, ratio):\n",
        "\tsample = list()\n",
        "\tn_sample = round(len(dataset) * ratio)\n",
        "\twhile len(sample) < n_sample:\n",
        "\t\tindex = randrange(len(dataset))\n",
        "\t\tsample.append(dataset[index])\n",
        "\treturn sample"
      ],
      "execution_count": 0,
      "outputs": []
    },
    {
      "metadata": {
        "id": "SEi6oMbwK4hl",
        "colab_type": "code",
        "outputId": "047a561b-3270-4a51-8a58-1909c3d66c7f",
        "colab": {
          "base_uri": "https://localhost:8080/",
          "height": 51
        }
      },
      "cell_type": "code",
      "source": [
        "!ls"
      ],
      "execution_count": 0,
      "outputs": [
        {
          "output_type": "stream",
          "text": [
            "gender_submission.csv  sample_data  test_set.csv  train_set.csv\n",
            "kaggle.json\t       test.csv     train.csv\n"
          ],
          "name": "stdout"
        }
      ]
    },
    {
      "metadata": {
        "id": "UKeZyRMOKtjj",
        "colab_type": "code",
        "outputId": "1244fd16-4b3a-47cc-c714-924592fe6f40",
        "colab": {
          "base_uri": "https://localhost:8080/",
          "height": 172
        }
      },
      "cell_type": "code",
      "source": [
        "# Make a prediction with a list of bagged trees\n",
        "#responsible for making a prediction with each decision tree and \n",
        "#combining the predictions into a single return value. \n",
        "#This is achieved by selecting the most common prediction \n",
        "#from the list of predictions made by the bagged trees.\n",
        "def bagging_predict(trees, row):\n",
        "\tpredictions = [predict(tree, row) for tree in trees]\n",
        "\treturn max(set(predictions), key=predictions.count)\n",
        " \n",
        "# Random Forest Algorithm\n",
        "#esponsible for creating the samples of the training dataset, training a decision tree on each,\n",
        "#then making predictions on the test dataset using the list of bagged trees.\n",
        "def random_forest(train, test, max_depth, min_size, sample_size, n_trees, n_features):\n",
        "\ttrees = list()\n",
        "\tfor i in range(n_trees):\n",
        "\t\tsample = subsample(train, sample_size)\n",
        "\t\ttree = build_tree(sample, max_depth, min_size, n_features)\n",
        "\t\ttrees.append(tree)\n",
        "\tpredictions = [bagging_predict(trees, row) for row in test]\n",
        "\treturn(predictions)\n",
        " \n",
        "# Test the random forest algorithm\n",
        "seed(1)\n",
        "# load and prepare data\n",
        "filename = 'train_set.csv'\n",
        "dataset = load_csv(filename)\n",
        "dataset = dataset[1:]\n",
        "# convert string attributes to integers\n",
        "for i in range(0, len(dataset[0])-1):\n",
        "\tstr_column_to_float(dataset, i)\n",
        "# convert class column to integers\n",
        "str_column_to_int(dataset, len(dataset[0])-1)\n",
        "# evaluate algorithm\n",
        "n_folds = 5\n",
        "max_depth = 10\n",
        "min_size = 1\n",
        "sample_size = 1.0\n",
        "n_features = int(sqrt(len(dataset[0])-1))\n",
        "for n_trees in [1, 5, 10]:\n",
        "\t#scores = evaluate_algorithm(dataset, random_forest, n_folds, max_depth, min_size, sample_size, n_trees, n_features)\n",
        "\t#print('Trees: %d' % n_trees)\n",
        "\t#print('Scores: %s' % scores)\n",
        "\t#print('Mean Accuracy: %.3f%%' % (sum(scores)/float(len(scores))))"
      ],
      "execution_count": 0,
      "outputs": [
        {
          "output_type": "stream",
          "text": [
            "Trees: 1\n",
            "Scores: [60.1123595505618, 56.17977528089888, 61.23595505617978, 65.1685393258427, 58.98876404494382]\n",
            "Mean Accuracy: 60.337%\n",
            "Trees: 5\n",
            "Scores: [61.23595505617978, 61.23595505617978, 60.67415730337079, 58.98876404494382, 59.55056179775281]\n",
            "Mean Accuracy: 60.337%\n",
            "Trees: 10\n",
            "Scores: [62.35955056179775, 58.98876404494382, 62.92134831460674, 61.79775280898876, 55.0561797752809]\n",
            "Mean Accuracy: 60.225%\n"
          ],
          "name": "stdout"
        }
      ]
    },
    {
      "metadata": {
        "id": "5X5Tf87qNYEt",
        "colab_type": "code",
        "outputId": "ea7c6b77-9060-46ec-b39b-01aee99eff86",
        "colab": {
          "base_uri": "https://localhost:8080/",
          "height": 69
        }
      },
      "cell_type": "code",
      "source": [
        "from sklearn.ensemble import RandomForestClassifier\n",
        "clf = RandomForestClassifier(n_estimators=100, max_depth=5, random_state=0)\n",
        "clf.fit(X_train, y_train)\n",
        "print(clf.feature_importances_)\n",
        "y_pred=clf.predict(X_test)\n",
        "print(\"Accuracy:\",accuracy_score(y_test, y_pred))\n"
      ],
      "execution_count": 0,
      "outputs": [
        {
          "output_type": "stream",
          "text": [
            "[0.11855497 0.29515633 0.02455758 0.0330362  0.02148317 0.04873939\n",
            " 0.01829992 0.07157784 0.29135029 0.07724433]\n",
            "Accuracy: 0.9449760765550239\n"
          ],
          "name": "stdout"
        }
      ]
    },
    {
      "metadata": {
        "id": "uK4bMZf6eMxu",
        "colab_type": "text"
      },
      "cell_type": "markdown",
      "source": [
        "# 5- K-Nearest Neighbors\n",
        "\n",
        "---\n"
      ]
    },
    {
      "metadata": {
        "id": "tzRk_dcqciUf",
        "colab_type": "code",
        "colab": {}
      },
      "cell_type": "code",
      "source": [
        "from sklearn.neighbors import KNeighborsClassifier\n",
        "\n",
        "neighbors = np.arange(1,9)\n",
        "train_accuracy =np.empty(len(neighbors))\n",
        "test_accuracy = np.empty(len(neighbors))\n",
        "\n",
        "for i,k in enumerate(neighbors):\n",
        "    #Setup a knn classifier with k neighbors\n",
        "    knn = KNeighborsClassifier(n_neighbors=k)\n",
        "    \n",
        "    #Fit the model\n",
        "    knn.fit(X_train, y_train)\n",
        "    \n",
        "    #Compute accuracy on the training set\n",
        "    train_accuracy[i] = knn.score(X_train, y_train)\n",
        "    \n",
        "    #Compute accuracy on the test set\n",
        "    test_accuracy[i] = knn.score(X_test, y_test) "
      ],
      "execution_count": 0,
      "outputs": []
    },
    {
      "metadata": {
        "id": "E32Lzf9he2oN",
        "colab_type": "code",
        "outputId": "073d9b4a-1aa7-4ed6-e3de-ac388584f56c",
        "colab": {
          "base_uri": "https://localhost:8080/",
          "height": 376
        }
      },
      "cell_type": "code",
      "source": [
        "plt.title('k-NN Varying number of neighbors')\n",
        "plt.plot(neighbors, test_accuracy, label='Testing Accuracy')\n",
        "plt.plot(neighbors, train_accuracy, label='Training accuracy')\n",
        "plt.legend()\n",
        "plt.xlabel('Number of neighbors')\n",
        "plt.ylabel('Accuracy')\n",
        "plt.show()"
      ],
      "execution_count": 0,
      "outputs": [
        {
          "output_type": "display_data",
          "data": {
            "image/png": "[encoded data removed]",
            "text/plain": [
              "<Figure size 576x396 with 1 Axes>"
            ]
          },
          "metadata": {
            "tags": []
          }
        }
      ]
    },
    {
      "metadata": {
        "id": "7pJF6-ibgNmB",
        "colab_type": "code",
        "outputId": "3f0ca26b-2db9-4433-ccda-54325263a3b3",
        "colab": {
          "base_uri": "https://localhost:8080/",
          "height": 206
        }
      },
      "cell_type": "code",
      "source": [
        "y_pred = knn.predict(X_test)\n",
        "print(confusion_matrix(y_test,y_pred))\n",
        "print(classification_report(y_test,y_pred))\n"
      ],
      "execution_count": 0,
      "outputs": [
        {
          "output_type": "stream",
          "text": [
            "[[239  27]\n",
            " [ 27 125]]\n",
            "              precision    recall  f1-score   support\n",
            "\n",
            "           0       0.90      0.90      0.90       266\n",
            "           1       0.82      0.82      0.82       152\n",
            "\n",
            "   micro avg       0.87      0.87      0.87       418\n",
            "   macro avg       0.86      0.86      0.86       418\n",
            "weighted avg       0.87      0.87      0.87       418\n",
            "\n"
          ],
          "name": "stdout"
        }
      ]
    },
    {
      "metadata": {
        "id": "LUw4yGvWhbu1",
        "colab_type": "code",
        "outputId": "106efe2e-9afc-4200-8396-494bce352997",
        "colab": {
          "base_uri": "https://localhost:8080/",
          "height": 243
        }
      },
      "cell_type": "code",
      "source": [
        "\n",
        "\n",
        "from sklearn.model_selection import GridSearchCV\n",
        "#In case of classifier like knn the parameter to be tuned is n_neighbors\n",
        "param_grid = {'n_neighbors':np.arange(1,50)}\n",
        "knn = KNeighborsClassifier()\n",
        "knn_cv= GridSearchCV(knn,param_grid,cv=5)\n",
        "knn_cv.fit(X_train,y_train)"
      ],
      "execution_count": 0,
      "outputs": [
        {
          "output_type": "stream",
          "text": [
            "/usr/local/lib/python3.6/dist-packages/sklearn/model_selection/_search.py:841: DeprecationWarning: The default of the `iid` parameter will change from True to False in version 0.22 and will be removed in 0.24. This will change numeric results when test-set sizes are unequal.\n",
            "  DeprecationWarning)\n"
          ],
          "name": "stderr"
        },
        {
          "output_type": "execute_result",
          "data": {
            "text/plain": [
              "GridSearchCV(cv=5, error_score='raise-deprecating',\n",
              "       estimator=KNeighborsClassifier(algorithm='auto', leaf_size=30, metric='minkowski',\n",
              "           metric_params=None, n_jobs=None, n_neighbors=5, p=2,\n",
              "           weights='uniform'),\n",
              "       fit_params=None, iid='warn', n_jobs=None,\n",
              "       param_grid={'n_neighbors': array([ 1,  2,  3,  4,  5,  6,  7,  8,  9, 10, 11, 12, 13, 14, 15, 16, 17,\n",
              "       18, 19, 20, 21, 22, 23, 24, 25, 26, 27, 28, 29, 30, 31, 32, 33, 34,\n",
              "       35, 36, 37, 38, 39, 40, 41, 42, 43, 44, 45, 46, 47, 48, 49])},\n",
              "       pre_dispatch='2*n_jobs', refit=True, return_train_score='warn',\n",
              "       scoring=None, verbose=0)"
            ]
          },
          "metadata": {
            "tags": []
          },
          "execution_count": 40
        }
      ]
    },
    {
      "metadata": {
        "id": "pQP9lV_dhiwE",
        "colab_type": "code",
        "outputId": "7359d523-cbe3-425e-a570-176ae0030d03",
        "colab": {
          "base_uri": "https://localhost:8080/",
          "height": 34
        }
      },
      "cell_type": "code",
      "source": [
        "knn_cv.best_score_\n"
      ],
      "execution_count": 0,
      "outputs": [
        {
          "output_type": "execute_result",
          "data": {
            "text/plain": [
              "0.8282828282828283"
            ]
          },
          "metadata": {
            "tags": []
          },
          "execution_count": 42
        }
      ]
    },
    {
      "metadata": {
        "id": "3duBJRHRhnP7",
        "colab_type": "code",
        "outputId": "b84e708d-3eda-4498-c6ff-8d685cca18d0",
        "colab": {
          "base_uri": "https://localhost:8080/",
          "height": 34
        }
      },
      "cell_type": "code",
      "source": [
        "knn_cv.best_params_\n"
      ],
      "execution_count": 0,
      "outputs": [
        {
          "output_type": "execute_result",
          "data": {
            "text/plain": [
              "{'n_neighbors': 20}"
            ]
          },
          "metadata": {
            "tags": []
          },
          "execution_count": 43
        }
      ]
    },
    {
      "metadata": {
        "id": "yLmQGQTHkvlk",
        "colab_type": "code",
        "outputId": "cc93f596-5fb3-424c-fe60-3278e6166a8d",
        "colab": {
          "base_uri": "https://localhost:8080/",
          "height": 137
        }
      },
      "cell_type": "code",
      "source": [
        "from sklearn.neural_network import MLPClassifier\n",
        "clf = MLPClassifier(solver='lbfgs', alpha=1e-5, hidden_layer_sizes=(6, 3), random_state=1)\n",
        "clf.fit(X_train, y_train)"
      ],
      "execution_count": 0,
      "outputs": [
        {
          "output_type": "execute_result",
          "data": {
            "text/plain": [
              "MLPClassifier(activation='relu', alpha=1e-05, batch_size='auto', beta_1=0.9,\n",
              "       beta_2=0.999, early_stopping=False, epsilon=1e-08,\n",
              "       hidden_layer_sizes=(6, 3), learning_rate='constant',\n",
              "       learning_rate_init=0.001, max_iter=200, momentum=0.9,\n",
              "       n_iter_no_change=10, nesterovs_momentum=True, power_t=0.5,\n",
              "       random_state=1, shuffle=True, solver='lbfgs', tol=0.0001,\n",
              "       validation_fraction=0.1, verbose=False, warm_start=False)"
            ]
          },
          "metadata": {
            "tags": []
          },
          "execution_count": 52
        }
      ]
    },
    {
      "metadata": {
        "id": "oPkWg9j0kvX4",
        "colab_type": "code",
        "outputId": "3aaae65a-3b65-4e86-bb27-7892b5ca5737",
        "colab": {
          "base_uri": "https://localhost:8080/",
          "height": 206
        }
      },
      "cell_type": "code",
      "source": [
        "y_pred = clf.predict(X_test)\n",
        "print(confusion_matrix(y_test,y_pred))\n",
        "print(classification_report(y_test,y_pred))"
      ],
      "execution_count": 0,
      "outputs": [
        {
          "output_type": "stream",
          "text": [
            "[[250  16]\n",
            " [ 11 141]]\n",
            "              precision    recall  f1-score   support\n",
            "\n",
            "           0       0.96      0.94      0.95       266\n",
            "           1       0.90      0.93      0.91       152\n",
            "\n",
            "   micro avg       0.94      0.94      0.94       418\n",
            "   macro avg       0.93      0.93      0.93       418\n",
            "weighted avg       0.94      0.94      0.94       418\n",
            "\n"
          ],
          "name": "stdout"
        }
      ]
    },
    {
      "metadata": {
        "id": "xwW03ovbr0Nm",
        "colab_type": "code",
        "outputId": "578e2af1-7fa9-416f-8983-9fa304413a53",
        "colab": {
          "base_uri": "https://localhost:8080/",
          "height": 51
        }
      },
      "cell_type": "code",
      "source": [
        "from __future__ import absolute_import, division, print_function\n",
        "\n",
        "# TensorFlow and tf.keras\n",
        "import tensorflow as tf\n",
        "from tensorflow import keras\n",
        "\n",
        "# Helper libraries\n",
        "import numpy as np\n",
        "import matplotlib.pyplot as plt\n",
        "\n",
        "print(tf.__version__)\n",
        "len(X_train)\n"
      ],
      "execution_count": 0,
      "outputs": [
        {
          "output_type": "stream",
          "text": [
            "1.13.0-rc2\n"
          ],
          "name": "stdout"
        },
        {
          "output_type": "execute_result",
          "data": {
            "text/plain": [
              "891"
            ]
          },
          "metadata": {
            "tags": []
          },
          "execution_count": 67
        }
      ]
    },
    {
      "metadata": {
        "id": "Wn18eI1Sr1SE",
        "colab_type": "code",
        "colab": {}
      },
      "cell_type": "code",
      "source": [
        "model = keras.Sequential()\n",
        "model.add(keras.layers.Embedding(891, 10))\n",
        "model.add(keras.layers.GlobalAveragePooling1D())\n",
        "model.add(keras.layers.Dense(16, activation=tf.nn.relu))\n",
        "model.add(keras.layers.Dense(1, activation=tf.nn.sigmoid))\n",
        "\n",
        "model.compile(optimizer='adam',\n",
        "              loss='binary_crossentropy',\n",
        "              metrics=['accuracy'])"
      ],
      "execution_count": 0,
      "outputs": []
    },
    {
      "metadata": {
        "id": "IvJkTfW-uxc_",
        "colab_type": "code",
        "outputId": "126b9d29-6d06-49bf-ce05-73e02d8534e5",
        "colab": {
          "base_uri": "https://localhost:8080/",
          "height": 3457
        }
      },
      "cell_type": "code",
      "source": [
        "history = model.fit(X_train, y_train, epochs=100)"
      ],
      "execution_count": 0,
      "outputs": [
        {
          "output_type": "stream",
          "text": [
            "Epoch 1/100\n",
            "891/891 [==============================] - 0s 147us/sample - loss: 0.5792 - acc: 0.7003\n",
            "Epoch 2/100\n",
            "891/891 [==============================] - 0s 148us/sample - loss: 0.5786 - acc: 0.7048\n",
            "Epoch 3/100\n",
            "891/891 [==============================] - 0s 140us/sample - loss: 0.5781 - acc: 0.7015\n",
            "Epoch 4/100\n",
            "891/891 [==============================] - 0s 144us/sample - loss: 0.5785 - acc: 0.6958\n",
            "Epoch 5/100\n",
            "891/891 [==============================] - 0s 151us/sample - loss: 0.5783 - acc: 0.7059\n",
            "Epoch 6/100\n",
            "891/891 [==============================] - 0s 152us/sample - loss: 0.5781 - acc: 0.7037\n",
            "Epoch 7/100\n",
            "891/891 [==============================] - 0s 164us/sample - loss: 0.5777 - acc: 0.7093\n",
            "Epoch 8/100\n",
            "891/891 [==============================] - 0s 158us/sample - loss: 0.5775 - acc: 0.7048\n",
            "Epoch 9/100\n",
            "891/891 [==============================] - 0s 155us/sample - loss: 0.5790 - acc: 0.7015\n",
            "Epoch 10/100\n",
            "891/891 [==============================] - 0s 140us/sample - loss: 0.5778 - acc: 0.6902\n",
            "Epoch 11/100\n",
            "891/891 [==============================] - 0s 137us/sample - loss: 0.5770 - acc: 0.7026\n",
            "Epoch 12/100\n",
            "891/891 [==============================] - 0s 155us/sample - loss: 0.5779 - acc: 0.7026\n",
            "Epoch 13/100\n",
            "891/891 [==============================] - 0s 143us/sample - loss: 0.5776 - acc: 0.7037\n",
            "Epoch 14/100\n",
            "891/891 [==============================] - 0s 139us/sample - loss: 0.5776 - acc: 0.7026\n",
            "Epoch 15/100\n",
            "891/891 [==============================] - 0s 147us/sample - loss: 0.5773 - acc: 0.7037\n",
            "Epoch 16/100\n",
            "891/891 [==============================] - 0s 143us/sample - loss: 0.5784 - acc: 0.7048\n",
            "Epoch 17/100\n",
            "891/891 [==============================] - 0s 151us/sample - loss: 0.5780 - acc: 0.7026\n",
            "Epoch 18/100\n",
            "891/891 [==============================] - 0s 143us/sample - loss: 0.5774 - acc: 0.6947\n",
            "Epoch 19/100\n",
            "891/891 [==============================] - 0s 148us/sample - loss: 0.5770 - acc: 0.7015\n",
            "Epoch 20/100\n",
            "891/891 [==============================] - 0s 162us/sample - loss: 0.5783 - acc: 0.6958\n",
            "Epoch 21/100\n",
            "891/891 [==============================] - 0s 151us/sample - loss: 0.5775 - acc: 0.7059\n",
            "Epoch 22/100\n",
            "891/891 [==============================] - 0s 156us/sample - loss: 0.5773 - acc: 0.7059\n",
            "Epoch 23/100\n",
            "891/891 [==============================] - 0s 151us/sample - loss: 0.5768 - acc: 0.6925\n",
            "Epoch 24/100\n",
            "891/891 [==============================] - 0s 151us/sample - loss: 0.5764 - acc: 0.6981\n",
            "Epoch 25/100\n",
            "891/891 [==============================] - 0s 150us/sample - loss: 0.5769 - acc: 0.7059\n",
            "Epoch 26/100\n",
            "891/891 [==============================] - 0s 155us/sample - loss: 0.5765 - acc: 0.7026\n",
            "Epoch 27/100\n",
            "891/891 [==============================] - 0s 158us/sample - loss: 0.5768 - acc: 0.6981\n",
            "Epoch 28/100\n",
            "891/891 [==============================] - 0s 150us/sample - loss: 0.5763 - acc: 0.7082\n",
            "Epoch 29/100\n",
            "891/891 [==============================] - 0s 146us/sample - loss: 0.5762 - acc: 0.7015\n",
            "Epoch 30/100\n",
            "891/891 [==============================] - 0s 148us/sample - loss: 0.5759 - acc: 0.6981\n",
            "Epoch 31/100\n",
            "891/891 [==============================] - 0s 154us/sample - loss: 0.5760 - acc: 0.6981\n",
            "Epoch 32/100\n",
            "891/891 [==============================] - 0s 150us/sample - loss: 0.5774 - acc: 0.7037\n",
            "Epoch 33/100\n",
            "891/891 [==============================] - 0s 149us/sample - loss: 0.5757 - acc: 0.6981\n",
            "Epoch 34/100\n",
            "891/891 [==============================] - 0s 162us/sample - loss: 0.5754 - acc: 0.6981\n",
            "Epoch 35/100\n",
            "891/891 [==============================] - 0s 150us/sample - loss: 0.5754 - acc: 0.7082\n",
            "Epoch 36/100\n",
            "891/891 [==============================] - 0s 153us/sample - loss: 0.5751 - acc: 0.6992\n",
            "Epoch 37/100\n",
            "891/891 [==============================] - 0s 154us/sample - loss: 0.5756 - acc: 0.6970\n",
            "Epoch 38/100\n",
            "891/891 [==============================] - 0s 145us/sample - loss: 0.5752 - acc: 0.7003\n",
            "Epoch 39/100\n",
            "891/891 [==============================] - 0s 153us/sample - loss: 0.5760 - acc: 0.6981\n",
            "Epoch 40/100\n",
            "891/891 [==============================] - 0s 152us/sample - loss: 0.5755 - acc: 0.7003\n",
            "Epoch 41/100\n",
            "891/891 [==============================] - 0s 150us/sample - loss: 0.5758 - acc: 0.6958\n",
            "Epoch 42/100\n",
            "891/891 [==============================] - 0s 164us/sample - loss: 0.5751 - acc: 0.6992\n",
            "Epoch 43/100\n",
            "891/891 [==============================] - 0s 148us/sample - loss: 0.5752 - acc: 0.6981\n",
            "Epoch 44/100\n",
            "891/891 [==============================] - 0s 149us/sample - loss: 0.5748 - acc: 0.7037\n",
            "Epoch 45/100\n",
            "891/891 [==============================] - 0s 155us/sample - loss: 0.5748 - acc: 0.6925\n",
            "Epoch 46/100\n",
            "891/891 [==============================] - 0s 147us/sample - loss: 0.5749 - acc: 0.6970\n",
            "Epoch 47/100\n",
            "891/891 [==============================] - 0s 148us/sample - loss: 0.5766 - acc: 0.6936\n",
            "Epoch 48/100\n",
            "891/891 [==============================] - 0s 146us/sample - loss: 0.5750 - acc: 0.7037\n",
            "Epoch 49/100\n",
            "891/891 [==============================] - 0s 164us/sample - loss: 0.5743 - acc: 0.6958\n",
            "Epoch 50/100\n",
            "891/891 [==============================] - 0s 147us/sample - loss: 0.5746 - acc: 0.6970\n",
            "Epoch 51/100\n",
            "891/891 [==============================] - 0s 149us/sample - loss: 0.5747 - acc: 0.6992\n",
            "Epoch 52/100\n",
            "891/891 [==============================] - 0s 149us/sample - loss: 0.5755 - acc: 0.6981\n",
            "Epoch 53/100\n",
            "891/891 [==============================] - 0s 151us/sample - loss: 0.5754 - acc: 0.7015\n",
            "Epoch 54/100\n",
            "891/891 [==============================] - 0s 147us/sample - loss: 0.5752 - acc: 0.6958\n",
            "Epoch 55/100\n",
            "891/891 [==============================] - 0s 152us/sample - loss: 0.5736 - acc: 0.6970\n",
            "Epoch 56/100\n",
            "891/891 [==============================] - 0s 160us/sample - loss: 0.5753 - acc: 0.6992\n",
            "Epoch 57/100\n",
            "891/891 [==============================] - 0s 148us/sample - loss: 0.5739 - acc: 0.6936\n",
            "Epoch 58/100\n",
            "891/891 [==============================] - 0s 148us/sample - loss: 0.5740 - acc: 0.6992\n",
            "Epoch 59/100\n",
            "891/891 [==============================] - 0s 152us/sample - loss: 0.5738 - acc: 0.6947\n",
            "Epoch 60/100\n",
            "891/891 [==============================] - 0s 148us/sample - loss: 0.5742 - acc: 0.7026\n",
            "Epoch 61/100\n",
            "891/891 [==============================] - 0s 147us/sample - loss: 0.5735 - acc: 0.6958\n",
            "Epoch 62/100\n",
            "891/891 [==============================] - 0s 151us/sample - loss: 0.5737 - acc: 0.7003\n",
            "Epoch 63/100\n",
            "891/891 [==============================] - 0s 146us/sample - loss: 0.5737 - acc: 0.7003\n",
            "Epoch 64/100\n",
            "891/891 [==============================] - 0s 158us/sample - loss: 0.5741 - acc: 0.6981\n",
            "Epoch 65/100\n",
            "891/891 [==============================] - 0s 154us/sample - loss: 0.5741 - acc: 0.6970\n",
            "Epoch 66/100\n",
            "891/891 [==============================] - 0s 150us/sample - loss: 0.5746 - acc: 0.7026\n",
            "Epoch 67/100\n",
            "891/891 [==============================] - 0s 146us/sample - loss: 0.5742 - acc: 0.6970\n",
            "Epoch 68/100\n",
            "891/891 [==============================] - 0s 145us/sample - loss: 0.5729 - acc: 0.7015\n",
            "Epoch 69/100\n",
            "891/891 [==============================] - 0s 149us/sample - loss: 0.5734 - acc: 0.6981\n",
            "Epoch 70/100\n",
            "891/891 [==============================] - 0s 146us/sample - loss: 0.5731 - acc: 0.6981\n",
            "Epoch 71/100\n",
            "891/891 [==============================] - 0s 164us/sample - loss: 0.5735 - acc: 0.6970\n",
            "Epoch 72/100\n",
            "891/891 [==============================] - 0s 156us/sample - loss: 0.5730 - acc: 0.7026\n",
            "Epoch 73/100\n",
            "891/891 [==============================] - 0s 151us/sample - loss: 0.5727 - acc: 0.7104\n",
            "Epoch 74/100\n",
            "891/891 [==============================] - 0s 149us/sample - loss: 0.5725 - acc: 0.7003\n",
            "Epoch 75/100\n",
            "891/891 [==============================] - 0s 151us/sample - loss: 0.5725 - acc: 0.6981\n",
            "Epoch 76/100\n",
            "891/891 [==============================] - 0s 148us/sample - loss: 0.5728 - acc: 0.6925\n",
            "Epoch 77/100\n",
            "891/891 [==============================] - 0s 153us/sample - loss: 0.5724 - acc: 0.6992\n",
            "Epoch 78/100\n",
            "891/891 [==============================] - 0s 172us/sample - loss: 0.5728 - acc: 0.7015\n",
            "Epoch 79/100\n",
            "891/891 [==============================] - 0s 149us/sample - loss: 0.5725 - acc: 0.7003\n",
            "Epoch 80/100\n",
            "891/891 [==============================] - 0s 150us/sample - loss: 0.5737 - acc: 0.7003\n",
            "Epoch 81/100\n",
            "891/891 [==============================] - 0s 149us/sample - loss: 0.5726 - acc: 0.6970\n",
            "Epoch 82/100\n",
            "891/891 [==============================] - 0s 152us/sample - loss: 0.5722 - acc: 0.6992\n",
            "Epoch 83/100\n",
            "891/891 [==============================] - 0s 150us/sample - loss: 0.5722 - acc: 0.7037\n",
            "Epoch 84/100\n",
            "891/891 [==============================] - 0s 149us/sample - loss: 0.5731 - acc: 0.6936\n",
            "Epoch 85/100\n",
            "891/891 [==============================] - 0s 145us/sample - loss: 0.5722 - acc: 0.6958\n",
            "Epoch 86/100\n",
            "891/891 [==============================] - 0s 156us/sample - loss: 0.5728 - acc: 0.6981\n",
            "Epoch 87/100\n",
            "891/891 [==============================] - 0s 149us/sample - loss: 0.5732 - acc: 0.6958\n",
            "Epoch 88/100\n",
            "891/891 [==============================] - 0s 154us/sample - loss: 0.5717 - acc: 0.6981\n",
            "Epoch 89/100\n",
            "891/891 [==============================] - 0s 152us/sample - loss: 0.5713 - acc: 0.7003\n",
            "Epoch 90/100\n",
            "891/891 [==============================] - 0s 150us/sample - loss: 0.5729 - acc: 0.6947\n",
            "Epoch 91/100\n",
            "891/891 [==============================] - 0s 149us/sample - loss: 0.5722 - acc: 0.6970\n",
            "Epoch 92/100\n",
            "891/891 [==============================] - 0s 148us/sample - loss: 0.5716 - acc: 0.6970\n",
            "Epoch 93/100\n",
            "891/891 [==============================] - 0s 163us/sample - loss: 0.5711 - acc: 0.6992\n",
            "Epoch 94/100\n",
            "891/891 [==============================] - 0s 147us/sample - loss: 0.5711 - acc: 0.7003\n",
            "Epoch 95/100\n",
            "891/891 [==============================] - 0s 146us/sample - loss: 0.5718 - acc: 0.6970\n",
            "Epoch 96/100\n",
            "891/891 [==============================] - 0s 154us/sample - loss: 0.5734 - acc: 0.6846\n",
            "Epoch 97/100\n",
            "891/891 [==============================] - 0s 153us/sample - loss: 0.5713 - acc: 0.7003\n",
            "Epoch 98/100\n",
            "891/891 [==============================] - 0s 149us/sample - loss: 0.5722 - acc: 0.6981\n",
            "Epoch 99/100\n",
            "891/891 [==============================] - 0s 156us/sample - loss: 0.5711 - acc: 0.6992\n",
            "Epoch 100/100\n",
            "891/891 [==============================] - 0s 155us/sample - loss: 0.5720 - acc: 0.7026\n"
          ],
          "name": "stdout"
        }
      ]
    },
    {
      "metadata": {
        "id": "jtPeIAlB6vbZ",
        "colab_type": "code",
        "outputId": "ef71b222-e013-42a0-d471-06d914379840",
        "colab": {
          "base_uri": "https://localhost:8080/",
          "height": 51
        }
      },
      "cell_type": "code",
      "source": [
        "results = model.evaluate(X_test, y_test)\n",
        "results\n",
        "history_dict = history.history\n",
        "history_dict.keys()"
      ],
      "execution_count": 0,
      "outputs": [
        {
          "output_type": "stream",
          "text": [
            "418/418 [==============================] - 0s 80us/sample - loss: 0.5063 - acc: 0.8349\n"
          ],
          "name": "stdout"
        },
        {
          "output_type": "execute_result",
          "data": {
            "text/plain": [
              "dict_keys(['loss', 'acc'])"
            ]
          },
          "metadata": {
            "tags": []
          },
          "execution_count": 80
        }
      ]
    }
  ]
}